{
 "cells": [
  {
   "cell_type": "markdown",
   "metadata": {},
   "source": [
    "# General"
   ]
  },
  {
   "cell_type": "markdown",
   "metadata": {},
   "source": [
    "Things to fix or add:\n",
    "\n",
    "Fourier transform of the Hahn Echo\n",
    "\n",
    "Check Hahn Echo in qudi\n",
    "\n",
    "Spin density in XY8\n",
    "\n",
    "Add exponential decay in XY8 fitting\n",
    "\n",
    "confocal imaging, ODMR"
   ]
  },
  {
   "cell_type": "markdown",
   "metadata": {},
   "source": [
    "## Library import\n",
    "\n",
    "Importing libraries and qudi_analysis where main constants and functions are defined.\n",
    "\n",
    "In data import second argument is used to extract data with an alternating signal (number of columns)."
   ]
  },
  {
   "cell_type": "code",
   "execution_count": null,
   "metadata": {},
   "outputs": [],
   "source": [
    "import numpy as np\n",
    "import matplotlib.pyplot as plt\n",
    "plt.rcParams.update({'font.size': 15})\n",
    "from scipy.optimize import curve_fit\n",
    "from scipy.fft import rfft, rfftfreq\n",
    "import plotly.express as px\n",
    "import os\n",
    "\n",
    "import qudi_analysis_functions as qa"
   ]
  },
  {
   "cell_type": "markdown",
   "metadata": {},
   "source": [
    "# XY8\n",
    "## Experimental data and estimation"
   ]
  },
  {
   "cell_type": "markdown",
   "metadata": {},
   "source": [
    "### Data import\n",
    "\n",
    "Uploading qudi .dat format data files for the analysis. Change directory and filenames of the data."
   ]
  },
  {
   "cell_type": "code",
   "execution_count": null,
   "metadata": {},
   "outputs": [],
   "source": [
    "os.chdir(r\"D:\\Kseniia\\Optics Lab\\Sample 19 (SPV)\\LiF\\400 G\\Rabi\")\n",
    "# Rabi\n",
    "filename = r\"20220920-1218-09_Sample 19_LiF_NV11_Rabi_384G_pulsed_measurement.dat\"\n",
    "Rabi_time, Rabi_signal = qa.qudi_reader(filename , 2)\n",
    "\n",
    "\n",
    "os.chdir(r\"D:\\Kseniia\\Optics Lab\\Sample 19 (SPV)\\LiF\\400 G\\XY8\")\n",
    "# XY8-N; Region of interest\n",
    "filename=r\"20220921-1722-04_Sample 19_LiF_NV11_XY8_500_384G_pulsed_measurement.dat\"\n",
    "XY8_roi_time, XY8_roi_signal, XY8_roi_signal_alt, XY8_roi_delta = qa.qudi_reader(filename, 3)\n",
    "\n",
    "# # XY8-N; full\n",
    "# filename = r\"20220913-0807-59_Sample 19_LiF_NV1_XY8_F_384G_pulsed_measurement.dat\"\n",
    "# XY8_time, XY8_signal, XY8_signal_alt, XY8_delta = qa.qudi_reader(filename, 3)\n"
   ]
  },
  {
   "cell_type": "markdown",
   "metadata": {},
   "source": [
    "### Variables for the analysis\n",
    "\n",
    "Values to change:\n",
    "\n",
    "Sample_name: Uneder this name data files will be saved.\n",
    "\n",
    "N: Number of XY8 blocks\n",
    "\n",
    "nor: Number of resonance peaks.\n",
    "\n",
    "ODMR_left & ODMR_right: ODMR dips from the qudi fit.\n",
    "\n",
    "amplitude, freq, offset: Rabi fitting values.\n",
    "\n",
    "gamma & gamma2 (optionally): Measured isotop(s)\n",
    "reduced gyromagnetic ratio(s).\n",
    "\n",
    "gamma_name & gamma2_name (optionally): Measured isotop(s) reduced\n",
    "gyromagnetic ratio(s)."
   ]
  },
  {
   "cell_type": "code",
   "execution_count": null,
   "metadata": {},
   "outputs": [],
   "source": [
    "Sample_name = 'Sample 19 LiF NV11 7Li (2)'\n",
    "\n",
    "# Number of XY8 blocks\n",
    "N = 4\n",
    "\n",
    "# Number of resonances\n",
    "nor = 2 # 1 or 2\n",
    "\n",
    "# Magnetic field (use values from the qudi ODMR fitting)\n",
    "ODMR_left = 1796 * 1e6    #Hz\n",
    "ODMR_right = 3950.49 * 1e6    #Hz\n",
    "B_ext = (ODMR_right - ODMR_left) / (2 * qa.gamma_NV)    #G\n",
    "# B_ext = 490.52   # G\n",
    "\n",
    "# Rabi fitting (use values from the qudi .png file)\n",
    "amplitude = 0.2    # a.u.\n",
    "freq = 17    # MHz\n",
    "offset = 0.9    # a.u.\n",
    "phase = 0    # rad\n",
    "\n",
    "# Select isotopes \n",
    "gamma = qa.gamma_7Li    # Hz/G\n",
    "gamma_name = '7Li'\n",
    "if nor == 2: # Isotope with lower gyromagnetic ratio\n",
    "    gamma2 = qa.gamma_7Li    # Hz/G\n",
    "    gamma2_name = '7Li'\n",
    "else:\n",
    "    gamma2 = gamma\n",
    "    gamma2_name = gamma_name"
   ]
  },
  {
   "cell_type": "markdown",
   "metadata": {},
   "source": [
    "### Larmor frequency and tau spacing\n",
    "\n",
    "qa.Estimation will print calulated gyromagnetic ratio, Larmor frequency and an expected value of tau spacing for the XY8 measurements."
   ]
  },
  {
   "cell_type": "code",
   "execution_count": null,
   "metadata": {},
   "outputs": [],
   "source": [
    "if nor == 2: \n",
    "    tau, Larm_freq, tau2, Larm_freq2 = qa.Estimation(nor, B_ext, gamma, gamma2, gamma_name, gamma2_name)\n",
    "else:\n",
    "    tau, Larm_freq = qa.Estimation(nor, B_ext, gamma, gamma2, gamma_name, gamma2_name)"
   ]
  },
  {
   "cell_type": "markdown",
   "metadata": {},
   "source": [
    "## Data analysis"
   ]
  },
  {
   "cell_type": "markdown",
   "metadata": {},
   "source": [
    "### Normalization and spectral density\n",
    "\n",
    "Values to change:\n",
    "\n",
    "skip_points_start: If XY8_roi_time starts from 0 or really small values, it is better to start from higher tau values for the power spectral density calculation.\n",
    "\n",
    "skip_points_end: To remove some noise.\n",
    "\n",
    "error_fix: If there is an error during spectral density calculation."
   ]
  },
  {
   "cell_type": "code",
   "execution_count": null,
   "metadata": {},
   "outputs": [],
   "source": [
    "skip_points_start = 0\n",
    "skip_points_end = 0\n",
    "error_fix = 0 # increase with 0.1 step\n",
    "\n",
    "# Rabi fitting\n",
    "Rabi_p0 = np.array([amplitude, freq, phase, offset]) \n",
    "Rabi_popt, Rabi_pcov = curve_fit(qa.cos_func, Rabi_time, Rabi_signal, Rabi_p0)\n",
    "\n",
    "# XY8 normalization\n",
    "level = ((XY8_roi_signal + XY8_roi_signal_alt)/2).mean()\n",
    "XY8_norm = qa.norm(XY8_roi_signal, qa.cos_func(Rabi_time, *Rabi_popt), level)\n",
    "XY8_norm_alt = qa.norm(XY8_roi_signal_alt, qa.cos_func(Rabi_time, *Rabi_popt), level)\n",
    "\n",
    "# XY8 mean delta of 2 signals\n",
    "XY8_delta = (XY8_norm + (1 - XY8_norm_alt)) / 2\n",
    "\n",
    "# Power spectral density calculation\n",
    "skip_points_end = len(XY8_roi_time) - skip_points_end\n",
    "if skip_points_start != 0 or  skip_points_end != 0:\n",
    "    # Calculates frequency Nu for given values of tau, kHz\n",
    "    XY8_frequency = 1000 / (2 * XY8_roi_time[skip_points_start:skip_points_end])\n",
    "    # In original script instead of np.max(Rabi_signal) + error_fix was just 1 which gives errors if signals are overlapping\n",
    "    Spectral_dens = qa.deconv(8 * N, np.max(Rabi_signal) + error_fix - XY8_delta[skip_points_start:skip_points_end], XY8_roi_time[skip_points_start:skip_points_end])\n",
    "else:\n",
    "    # Calculates frequency Nu for given values of tau, kHz\n",
    "    XY8_frequency = 1000 / (2 * XY8_roi_time)    \n",
    "    Spectral_dens = qa.deconv(8 * N, np.max(Rabi_signal) + error_fix - XY8_delta, XY8_roi_time)"
   ]
  },
  {
   "cell_type": "markdown",
   "metadata": {},
   "source": [
    "### Plotting Rabi, XY8 signal and spectral density"
   ]
  },
  {
   "cell_type": "code",
   "execution_count": null,
   "metadata": {},
   "outputs": [],
   "source": [
    "fig, axs = plt.subplots(2, 2, figsize = (20,13))\n",
    "\n",
    "axs[0,0].plot(Rabi_time, Rabi_signal)\n",
    "axs[0,0].set(xlabel = 'Tau (ns)', ylabel = 'Florescence (a.u.)', title = 'NV Rabi')\n",
    "axs[0,0].plot(Rabi_time, qa.cos_func(Rabi_time, *Rabi_popt), 'r--', label='fit:\\nampl=%5.3f \\nfreq=%5.3f MHz \\nphase=%5.3f \\noffset=%5.3f' % tuple(Rabi_popt))\n",
    "axs[0,0].legend()\n",
    "\n",
    "axs[0,1].plot(XY8_roi_time, XY8_roi_signal, label = 'pi/2')\n",
    "axs[0,1].plot(XY8_roi_time, XY8_roi_signal_alt, label = '3pi/2')\n",
    "axs[0,1].set(xlabel = 'Tau (us)', ylabel = 'Florescence (a.u.)', title = 'NV XY8-' + str(N))\n",
    "axs[0,1].plot(XY8_roi_time, qa.cos_func(XY8_roi_time, *Rabi_popt), 'r--', label='Rabi')\n",
    "axs[0,1].legend()\n",
    "\n",
    "axs[1,0].plot(XY8_roi_time, XY8_norm, label = 'pi/2')\n",
    "axs[1,0].plot(XY8_roi_time, XY8_norm_alt, label = '3pi/2')\n",
    "axs[1,0].plot(XY8_roi_time, XY8_delta, '--', label = 'Mean delta')\n",
    "axs[1,0].set(xlabel = 'Tau (us)', ylabel = 'Florescence (norm.)', title = 'NV XY8-'+ str(N) + ' normalized data')\n",
    "# Expected sensing spacing\n",
    "axs[1,0].axvline(x = tau, color = 'grey', linestyle = '--')\n",
    "axs[1,0].text(tau, np.max(XY8_norm_alt), gamma_name, color = 'grey', fontsize = 15)\n",
    "if nor == 2 and tau != tau2:\n",
    "    axs[1,0].axvline(x = tau2, color = 'olive', linestyle = '--')\n",
    "    axs[1,0].text(tau2, np.max(XY8_norm_alt) - 0.1, gamma2_name, color = 'olive', fontsize = 15)\n",
    "axs[1,0].legend()\n",
    "\n",
    "axs[1,1].plot(XY8_frequency, Spectral_dens, 'g', label = 'Mean delta')\n",
    "axs[1,1].set(xlabel = 'Frequency (kHz)', ylabel = 'Power spectral density (kHz)', title = 'NV spectral density')\n",
    "# Expected Larmor frequencies\n",
    "axs[1,1].axvline(x = Larm_freq, color = 'grey', linestyle = '--')\n",
    "axs[1,1].text(Larm_freq, np.max(Spectral_dens), gamma_name, color = 'grey', fontsize = 15)\n",
    "if nor == 2 and tau != tau2:\n",
    "    axs[1,1].axvline(x = Larm_freq2, color = 'olive', linestyle = '--')\n",
    "    axs[1,1].text(Larm_freq2, np.max(Spectral_dens) - 50, gamma2_name, color = 'olive', fontsize = 15)\n",
    "axs[1,1].legend()\n",
    "\n",
    "plt.savefig(Sample_name + \" spectral density.png\")"
   ]
  },
  {
   "cell_type": "markdown",
   "metadata": {},
   "source": [
    "### Interactive plot\n",
    "\n",
    "Change signal and time accordingly. You can use this plot to determine peak frequencies, amplitudes and FWHM for the fitting."
   ]
  },
  {
   "cell_type": "code",
   "execution_count": null,
   "metadata": {},
   "outputs": [],
   "source": [
    "signal = Spectral_dens\n",
    "time = XY8_frequency\n",
    "\n",
    "\n",
    "figexp = px.line(x = time, y = signal, title=\"FT\")\n",
    "config = {\n",
    "  'toImageButtonOptions': {\n",
    "    'format': 'svg', # one of png, svg, jpeg, webp\n",
    "    'filename': 'custom_image',\n",
    "    'height': 500,\n",
    "    'width': 700,\n",
    "    'scale': 1 # Multiply title/legend/axis/canvas sizes by this factor\n",
    "  },    'displaylogo': False\n",
    "}\n",
    "figexp.update_xaxes(title_text = \"Frequency (MHz)\")\n",
    "figexp.update_yaxes(title_text = \"Amplitude(arb. units)\")\n",
    "figexp.show(config = config)"
   ]
  },
  {
   "cell_type": "markdown",
   "metadata": {},
   "source": [
    "### Lorentzian fitting\n",
    "\n",
    "Values to change:\n",
    "\n",
    "amplitude, center, sigma, baseline: Lorentzian fitting values, use interactive plot to correct values.\n",
    "\n",
    "center2: Depending on the highest peak position you need to either sum or substract."
   ]
  },
  {
   "cell_type": "code",
   "execution_count": null,
   "metadata": {
    "scrolled": false
   },
   "outputs": [],
   "source": [
    "amplitude = np.max(Spectral_dens)\n",
    "center = XY8_frequency[np.argmax(Spectral_dens)]\n",
    "sigma = 30\n",
    "baseline = 40\n",
    "\n",
    "if nor == 2:\n",
    "    center2 = center + (Larm_freq - Larm_freq2) # OR = center - (Larm_freq - Larm_freq2)\n",
    "    Lorentzian_p0 = np.array([amplitude, center, sigma, amplitude, center2, sigma, baseline])\n",
    "#     Lorentzian_p0 = np.array([117, 675, 14, 85, 770, sigma, baseline])\n",
    "    Spectrum_fit, pcov = curve_fit(qa.double_Lorentzian_func, XY8_frequency, Spectral_dens, Lorentzian_p0)\n",
    "else:\n",
    "    Lorentzian_p0 = np.array([amplitude, center, sigma, baseline])\n",
    "#     Lorentzian_p0 = np.array([54, 770, 20, 0])\n",
    "    Spectrum_fit, pcov = curve_fit(qa.Lorentzian_func, XY8_frequency, Spectral_dens, Lorentzian_p0)\n",
    "    \n",
    "print(Lorentzian_p0)"
   ]
  },
  {
   "cell_type": "markdown",
   "metadata": {},
   "source": [
    "### Spectral density plotting"
   ]
  },
  {
   "cell_type": "code",
   "execution_count": null,
   "metadata": {},
   "outputs": [],
   "source": [
    "fig, axs = plt.subplots(figsize = (18,10))\n",
    "axs.plot(XY8_frequency, Spectral_dens, 'o',label = 'Delta')\n",
    "if nor == 2:\n",
    "    axs.plot(XY8_frequency, qa.double_Lorentzian_func(XY8_frequency, *Spectrum_fit), 'r--', label='fit:\\namplitude=%5.3f \\ncenter=%5.3f  \\nsigma=%5.3f \\namplitude2=%5.3f \\ncenter2=%5.3f  \\nsigma2=%5.3f \\noffset=%5.3f' % tuple(Spectrum_fit))\n",
    "else:\n",
    "    axs.plot(XY8_frequency, qa.Lorentzian_func(XY8_frequency, *Spectrum_fit), 'r--', label='fit:\\namplitude=%5.3f \\ncenter=%5.3f  \\nsigma=%5.3f \\noffset=%5.3f' % tuple(Spectrum_fit))\n",
    "axs.legend()\n",
    "axs.set(xlabel = 'Frequency (kHz)', ylabel = 'Power spectral density (kHz)', title = 'Noise spectral density')\n",
    "\n",
    "plt.savefig(Sample_name + \" spectrum.png\")"
   ]
  },
  {
   "cell_type": "markdown",
   "metadata": {},
   "source": [
    "### Expreimental Larmor frequency and magnetic field\n",
    "\n",
    "Prints difference of experimental values with the theoretical calculations."
   ]
  },
  {
   "cell_type": "code",
   "execution_count": null,
   "metadata": {},
   "outputs": [],
   "source": [
    "# Experimental Larmor frequency and magnetic field\n",
    "peak_freq = Spectrum_fit[1]\n",
    "B_calc = peak_freq * 1e3 / gamma2\n",
    "\n",
    "# Checking that fitted peaks relative positions are same as theoretical\n",
    "if nor == 2:\n",
    "    peak_freq2 = Spectrum_fit[4]\n",
    "    B_calc2 = peak_freq2 * 1e3 / gamma2\n",
    "    if peak_freq < peak_freq2:\n",
    "        check = 1\n",
    "        peak_freq, peak_freq2 = peak_freq2, peak_freq # Comment out if frequencies are correct from the beggining\n",
    "        B_calc, B_calc2 = B_calc2, B_calc\n",
    "    else:\n",
    "        check = 0\n",
    "    print(gamma_name + ' Larmor frequency from the experimental data:', round(peak_freq,2), 'kHz')\n",
    "    print(gamma_name + ' difference between theoretical Larmor frequency and measured one:', round(peak_freq - Larm_freq,2), 'kHz')\n",
    "    print(gamma_name + ' magnetic field from the experimental data:', round(B_calc,2), 'G')\n",
    "    print(gamma_name + ' difference between magnetic field projection on the NV and measured one:', round(B_calc - B_ext,2), 'G')\n",
    "    print('\\nFor the second signal:')\n",
    "    print(gamma2_name + ' Larmor frequency from the experimental data:', round(peak_freq2,2), 'kHz')\n",
    "    print(gamma2_name + ' difference between theoretical Larmor frequency and measured one:', round(peak_freq2 - Larm_freq2,2), 'kHz')\n",
    "    print(gamma2_name + ' magnetic field from the experimental data:', round(B_calc2,2), 'G')\n",
    "    print(gamma2_name + ' difference between magnetic field projection on the NV and measured one:', round(B_calc2 - B_ext,2), 'G')\n",
    "else:\n",
    "    print(gamma_name + ' Larmor frequency from the experimental data:', round(peak_freq,2), 'kHz')\n",
    "    print(gamma_name + ' difference between theoretical Larmor frequency and measured one:', round(peak_freq - Larm_freq,2), 'kHz')\n",
    "    print(gamma_name + ' magnetic field from the experimental data:', round(B_calc,2), 'G')\n",
    "    print(gamma_name + ' difference between magnetic field projection on the NV and measured one:', round(B_calc - B_ext,2), 'G')"
   ]
  },
  {
   "cell_type": "markdown",
   "metadata": {},
   "source": [
    "### NMR signal\n",
    "\n",
    "Calculates Lorentzian linewidth and magnetic field fluctuations."
   ]
  },
  {
   "cell_type": "code",
   "execution_count": null,
   "metadata": {},
   "outputs": [],
   "source": [
    "if nor == 2:\n",
    "    # Getting the integral of the magnetic noise spectrum with substracted offset\n",
    "    spectrum_area = np.trapz(qa.Lorentzian_func(XY8_frequency, *Spectrum_fit[0:3], Spectrum_fit[6]) - Spectrum_fit[6], x = np.sort(XY8_frequency))/ 1e6    # MHz^2\n",
    "    spectrum_area2 = np.trapz(qa.Lorentzian_func(XY8_frequency, *Spectrum_fit[3:]) - Spectrum_fit[6], x = np.sort(XY8_frequency))/ 1e6     #MHz^2\n",
    "    # Lorentzian linewidth with the substracted offset\n",
    "    linewidth = 2 * np.abs(Spectrum_fit[2])\n",
    "    linewidth2 = 2 * np.abs(Spectrum_fit[5])\n",
    "    if check == 1:\n",
    "        spectrum_area, spectrum_area2 = spectrum_area2, spectrum_area\n",
    "        linewidth, linewidth2 = linewidth2, linewidth\n",
    "    print(gamma_name + ' Lorentzian linewidth:', round(linewidth,2), 'kHz')\n",
    "    print(gamma2_name + ' Lorentzian linewidth:', round(linewidth2,2), 'kHz')\n",
    "else:\n",
    "    # Getting the integral of the magnetic noise spectrum with substracted offset\n",
    "    spectrum_area = np.trapz(qa.Lorentzian_func(XY8_frequency, *Spectrum_fit[0:3], Spectrum_fit[3]) - Spectrum_fit[3], x = np.sort(XY8_frequency))/ 1e6    # MHz^2\n",
    "    # Lorentzian linewidth with the substracted offset\n",
    "    linewidth = 2 * np.abs(Spectrum_fit[2])\n",
    "    print(gamma_name + ' Lorentzian linewidth:', round(linewidth,2), 'kHz')\n",
    "    \n",
    "# The magnetic field fluctuations (NMR magnetic signal)\n",
    "B1 = (2 * spectrum_area / qa.gamma_e**2)**0.5    # T\n",
    "print(gamma_name + ' B1 =', round(B1 * 1e6,2), 'uT')\n",
    "if nor == 2:\n",
    "    B2 = (2 * spectrum_area2 / qa.gamma_e**2)**0.5    # T\n",
    "    print(gamma2_name + ' B2 =', round(B2 * 1e6,2), 'uT')"
   ]
  },
  {
   "cell_type": "markdown",
   "metadata": {},
   "source": [
    "### NV center depth\n",
    "\n",
    "Calculating the depth of the NV in the case of the hydrogen spins in immersion oil."
   ]
  },
  {
   "cell_type": "code",
   "execution_count": null,
   "metadata": {},
   "outputs": [],
   "source": [
    "depth1 = qa.depth(B1, gamma * 1e4, qa.rho_oil)\n",
    "print('depth1 =', depth1, 'nm')\n",
    "if nor == 2:\n",
    "    depth2 = qa.depth(B2, gamma * 1e4, qa.rho_oil)\n",
    "    mean_depth = (depth1 + depth2) / 2\n",
    "    print('depth2 =', depth2, 'nm')\n",
    "    print('mean depth =', mean_depth, 'nm')"
   ]
  },
  {
   "cell_type": "code",
   "execution_count": null,
   "metadata": {},
   "outputs": [],
   "source": [
    "## calcuate the spin density for given depth:"
   ]
  },
  {
   "cell_type": "code",
   "execution_count": null,
   "metadata": {},
   "outputs": [],
   "source": [
    "\n",
    "# d1 = 3.7027003282742967\n",
    "# d2 = 3.7027003282742967\n",
    "# rho1 = dc.calculate_density_simple(mu_0, h, B1, gamma_p, d1)\n",
    "# rho2 = dc.calculate_density_simple(mu_0, h, B2, gamma_p, d2)\n",
    "# print('rho1 =', rho1, 'nm^-3')\n",
    "# print('rho2 =', rho2, 'nm^-3')"
   ]
  },
  {
   "cell_type": "markdown",
   "metadata": {},
   "source": [
    "# Hahn Echo"
   ]
  },
  {
   "cell_type": "markdown",
   "metadata": {},
   "source": [
    "## Experimental data and estimation"
   ]
  },
  {
   "cell_type": "markdown",
   "metadata": {},
   "source": [
    "### Data import\n",
    "\n",
    "qudi for Hahn Echo measurements creates, plots and saves data with tau spacing between pulses instead of tau/2."
   ]
  },
  {
   "cell_type": "code",
   "execution_count": null,
   "metadata": {},
   "outputs": [],
   "source": [
    "## Check again data saving!!"
   ]
  },
  {
   "cell_type": "code",
   "execution_count": null,
   "metadata": {},
   "outputs": [],
   "source": [
    "os.chdir(r\"D:\\Kseniia\\Optics Lab\\Sample 19 (SPV)\\LiF\\Small magnetic field\\Hahn Echo\")\n",
    "\n",
    "# Hahn Echo\n",
    "filename = r\"20220909-1518-17_Sample 19_LiF_NV1_Hahn Echo_pulsed_measurement.dat\"\n",
    "T2_time, T2_signal, T2_signal_alt, T2_delta = qa.qudi_reader(filename, 3)\n",
    "# qudi for Hahn Echo measurements creates, plots and saves data with tau spacing between pulses instead of tau/2.\n",
    "# Therefore T2_time should be two times larger.\n",
    "# T2_time = 2 * T2_time\n",
    "\n",
    "os.chdir(r\"D:\\Kseniia\\Optics Lab\\Sample 19 (SPV)\\LiF\\Small magnetic field\\Rabi\")\n",
    "# Rabi\n",
    "filename = r\"20220909-1354-06_Sample 19_LiF_NV1_Rabi_pulsed_measurement.dat\"\n",
    "Rabi_time, Rabi_signal = qa.qudi_reader(filename , 2)"
   ]
  },
  {
   "cell_type": "markdown",
   "metadata": {},
   "source": [
    "### Variables for the analysis"
   ]
  },
  {
   "cell_type": "code",
   "execution_count": null,
   "metadata": {},
   "outputs": [],
   "source": [
    "Sample_name = 'Sample'\n",
    "\n",
    "# Rabi fitting (use values from the qudi .png file)\n",
    "amplitude = 0.2    # a.u.\n",
    "freq = 22    # MHz\n",
    "offset = 0.9    # a.u.\n",
    "phase = 0    # rad"
   ]
  },
  {
   "cell_type": "markdown",
   "metadata": {},
   "source": [
    "## Data analysis"
   ]
  },
  {
   "cell_type": "markdown",
   "metadata": {},
   "source": [
    "### Coherence time\n",
    "\n",
    "Transforms data to correct tau spacing and calculates T2 time, fits the exponential decay."
   ]
  },
  {
   "cell_type": "code",
   "execution_count": null,
   "metadata": {},
   "outputs": [],
   "source": [
    "## Check how qudi saves the data!"
   ]
  },
  {
   "cell_type": "code",
   "execution_count": null,
   "metadata": {},
   "outputs": [],
   "source": [
    "T2_popt, T2_pcov = curve_fit(qa.T2_func, T2_time, T2_delta)\n",
    "print('Coherence time T2 =', round(T2_popt[1],2), 'us')\n",
    "\n",
    "#Rabi offset\n",
    "Rabi_p0 = np.array([amplitude, freq, phase, offset]) \n",
    "Rabi_popt, Rabi_pcov = curve_fit(qa.cos_func, Rabi_time, Rabi_signal, Rabi_p0)\n",
    "\n",
    "fig, axs = plt.subplots(1, 2, figsize = (18,5))\n",
    "axs[0].plot(T2_time, T2_signal, label = 'pi/2')\n",
    "axs[0].plot(T2_time, T2_signal_alt, label = '3pi/2')\n",
    "axs[0].plot(T2_time, T2_delta, '--', label = 'Mean delta')\n",
    "axs[0].axhline(y = Rabi_popt[3], color = 'grey', linestyle = ':')\n",
    "axs[0].text(0, Rabi_popt[3], 'Rabi offset', color = 'grey', fontsize = 13)\n",
    "axs[0].set(xlabel = 'Tau (us)', ylabel = 'Florescence (a.u.)', title = 'NV Hahn Echo')\n",
    "axs[0].legend()\n",
    "\n",
    "axs[1].plot(T2_time, T2_delta, 'g')\n",
    "axs[1].plot(T2_time, qa.T2_func(T2_time, *T2_popt), 'r--', label='fit: \\nampl=%5.3f \\nT2=%5.3f \\noffset=%5.3f' % tuple(T2_popt))\n",
    "axs[1].axhline(y = Rabi_popt[3], color = 'grey', linestyle = ':')\n",
    "axs[1].text(0, Rabi_popt[3], 'Rabi offset', color = 'grey', fontsize = 13)\n",
    "axs[1].set(xlabel = 'Tau (us)', ylabel = 'Florescence (a.u.)', title = 'NV coherence time')\n",
    "axs[1].legend()\n",
    "\n",
    "# fig.savefig(Sample_name + \" Coherence time.png\")"
   ]
  },
  {
   "cell_type": "markdown",
   "metadata": {},
   "source": [
    "### Fourier transform"
   ]
  },
  {
   "cell_type": "code",
   "execution_count": null,
   "metadata": {},
   "outputs": [],
   "source": [
    "### Check qudi FFT"
   ]
  },
  {
   "cell_type": "code",
   "execution_count": null,
   "metadata": {},
   "outputs": [],
   "source": [
    "osc = Rabi_signal\n",
    "fs = Rabi_time[1] - Rabi_time[0]    # Sampling frequency, us\n",
    "fft_osc = rfft(osc)        # Real values of FFT\n",
    "fft_fre = rfftfreq(len(Rabi_time), d = fs)\n",
    "\n",
    "\n",
    "fig, axs = plt.subplots(1, 2, figsize = (18,5))\n",
    "axs[0].plot(Rabi_time, osc)\n",
    "axs[0].set(xlabel = 'Tau (us)', ylabel = 'Florescence (a.u.)', title = 'Hahn Echo without exp decay')\n",
    "\n",
    "axs[1].plot(fft_fre, np.abs(fft_osc))\n",
    "axs[1].set(xlabel = 'Frequency (MHz)', ylabel = 'Amplitude (a.u.)', title = 'NV FFT')"
   ]
  },
  {
   "cell_type": "code",
   "execution_count": null,
   "metadata": {},
   "outputs": [],
   "source": [
    "# INTERACTIVE PLOT\n",
    "fft_fre = fft_fre\n",
    "fft_osc = fft_osc\n",
    "\n",
    "\n",
    "figexp = px.line(x = fft_fre, y = np.abs(fft_osc), title=\"FT\")\n",
    "config = {\n",
    "  'toImageButtonOptions': {\n",
    "    'format': 'svg', # one of png, svg, jpeg, webp\n",
    "    'filename': 'custom_image',\n",
    "    'height': 500,\n",
    "    'width': 700,\n",
    "    'scale': 1 # Multiply title/legend/axis/canvas sizes by this factor\n",
    "  },    'displaylogo': False\n",
    "}\n",
    "figexp.update_xaxes(title_text = \"Frequency (MHz)\")\n",
    "figexp.update_yaxes(title_text = \"Amplitude(arb. units)\")\n",
    "figexp.show(config = config)"
   ]
  },
  {
   "cell_type": "markdown",
   "metadata": {},
   "source": [
    "# Spectrum"
   ]
  },
  {
   "cell_type": "markdown",
   "metadata": {},
   "source": [
    "## Experimantal data and estimation"
   ]
  },
  {
   "cell_type": "markdown",
   "metadata": {},
   "source": [
    "### Data import"
   ]
  },
  {
   "cell_type": "code",
   "execution_count": null,
   "metadata": {},
   "outputs": [],
   "source": [
    "os.chdir(r\"D:\\Kseniia\\Optics Lab\\Sample 19 (SPV)\\LiF\\Spectra\")\n",
    "\n",
    "filename = \"Sample 19_LiF_NV12_100uW_60s.csv\"\n",
    "wavelength,spectrum = qa.csvReader(filename)\n",
    "\n",
    "filename2 = \"Sample 19_LiF_background_100uW_60s.csv\"\n",
    "wavelength2,spectrum2 = qa.csvReader(filename2)\n",
    "\n",
    "filename3 = \"Sample 19_LiF_background unbleached_100uW_60s.csv\"\n",
    "wavelength3,spectrum3 = qa.csvReader(filename3)\n",
    "# filename4 = \"LiF_5nm_scan_90 uW_60 s_90 uW.csv\"\n",
    "# wavelength4,spectrum4 = qa.csvReader(filename4)\n",
    "# filename5 = \"Sample 19_NV_60 s_90 uW.csv\"\n",
    "# wavelength5,spectrum5 = qa.csvReader(filename5)\n",
    "# filename6 = \"Jansen_PL6_30uW_60s.csv\"\n",
    "# wavelength6,spectrum6 = qa.csvReader(filename6)\n",
    "# background1 = \"Sample 17 air objective background laser 100 uW exposure time 1 min.csv\"\n",
    "# wavelength_b1,spectrum_b1 = qa.csvReader(background1)\n",
    "# background2 = \"Sample 17_background_110uW_60s.csv\"\n",
    "# wavelength_b2,spectrum_b2 = qa.csvReader(background2)"
   ]
  },
  {
   "cell_type": "markdown",
   "metadata": {},
   "source": [
    "Removing the background."
   ]
  },
  {
   "cell_type": "code",
   "execution_count": null,
   "metadata": {},
   "outputs": [],
   "source": [
    "# spectrum = spectrum - spectrum_b1\n",
    "# spectrum2 = spectrum2 - spectrum_b1\n",
    "# spectrum3 = spectrum3 - spectrum_b2\n",
    "# spectrum4 = spectrum4 - spectrum_b2"
   ]
  },
  {
   "cell_type": "markdown",
   "metadata": {},
   "source": [
    "## Data analysis"
   ]
  },
  {
   "cell_type": "markdown",
   "metadata": {},
   "source": [
    "### Interactive plot"
   ]
  },
  {
   "cell_type": "code",
   "execution_count": null,
   "metadata": {},
   "outputs": [],
   "source": [
    "wavelength_x = wavelength\n",
    "spectrum_y = spectrum\n",
    "\n",
    "figexp=px.line(x=wavelength_x,y=spectrum_y,title=\"Fluorescence spectrum\")\n",
    "config = {\n",
    "  'toImageButtonOptions': {\n",
    "    'format': 'svg', # one of png, svg, jpeg, webp\n",
    "    'filename': 'custom_image',\n",
    "    'height': 500,\n",
    "    'width': 700,\n",
    "    'scale': 1 # Multiply title/legend/axis/canvas sizes by this factor\n",
    "  },    'displaylogo': False\n",
    "}\n",
    "figexp.update_xaxes(title_text=\"Wavelength (nm)\")\n",
    "figexp.update_yaxes(title_text=\"Counts (arb. units)\")\n",
    "figexp.show(config=config)"
   ]
  },
  {
   "cell_type": "markdown",
   "metadata": {},
   "source": [
    "### Spectrum"
   ]
  },
  {
   "cell_type": "code",
   "execution_count": null,
   "metadata": {},
   "outputs": [],
   "source": [
    "xmin = 550#min(wavelength)\n",
    "xmax = 900 #max(wavelength)\n",
    "ymin = min(spectrum)-50#min(spectrum)\n",
    "ymax = max(spectrum) + 50\n",
    "\n",
    "title = 'Sample 19 spectrum after LiF deposition'\n",
    "xlabel = 'Wavelength (nm)'\n",
    "ylabel = 'Counts'"
   ]
  },
  {
   "cell_type": "code",
   "execution_count": null,
   "metadata": {},
   "outputs": [],
   "source": [
    "fig, axs = plt.subplots(figsize=(18,10))\n",
    "\n",
    "axs.plot(wavelength, spectrum, '-', color = 'tab:blue', label='NV #12')\n",
    "axs.plot(wavelength, spectrum2, '-', color = 'tab:green', label='Bleached background')\n",
    "axs.plot(wavelength, spectrum3, '-', color = 'tab:orange', label='Background before bleaching')\n",
    "# axs.plot(wavelength, spectrum4, '-', color = 'tab:red', label='Full area')\n",
    "# axs.plot(wavelength, spectrum5, '-', color = 'tab:cyan', label='Single NV')\n",
    "# axs.plot(wavelength, spectrum6, '-', color = 'tab:brown', label='Single NV')\n",
    "# axs.plot(wavelength, spectrum_b, '-', color = 'tab:cyan', label='Background')\n",
    "\n",
    "# axs.axvline(x = 650, color='grey', linestyle='--')\n",
    "# axs.text(641, 650, '650 nm',color='grey',fontsize = 15)\n",
    "\n",
    "axs.set(xlim=(xmin, xmax),ylim=(ymin, ymax), xlabel=xlabel, ylabel=ylabel, title=title)\n",
    "axs.grid(True)\n",
    "axs.legend()\n",
    "plt.show()\n",
    "\n",
    "# fig.savefig(filename[:-4] + \"_spectrum.png\")"
   ]
  },
  {
   "cell_type": "markdown",
   "metadata": {},
   "source": [
    "# Saturation"
   ]
  },
  {
   "cell_type": "markdown",
   "metadata": {},
   "source": [
    "## Data import"
   ]
  },
  {
   "cell_type": "code",
   "execution_count": null,
   "metadata": {},
   "outputs": [],
   "source": [
    "os.chdir(r\"D:\\Kseniia\\Optics Lab\\Sample 17\") # use \\\\ instead of \\\n",
    "\n",
    "filename = np.loadtxt(r'SAturation encapsulated.txt', delimiter=',')\n",
    "laser_power = filename[:,0] # np.array of float values of the laser power\n",
    "NV_counts = filename[:,1] # np.array of float values of the intensity\n",
    "NV_background = filename[:,2]# np.array of float values of the intensity\n",
    "NV_sub = NV_counts - NV_background"
   ]
  },
  {
   "cell_type": "markdown",
   "metadata": {},
   "source": [
    "## Data analysis"
   ]
  },
  {
   "cell_type": "code",
   "execution_count": null,
   "metadata": {},
   "outputs": [],
   "source": [
    "saturation_popt, saturation_pcov = curve_fit(qa.saturation_func, laser_power[0:4], NV_sub[0:4])\n",
    "\n",
    "fig, axs = plt.subplots(1,2,figsize=(18,6))\n",
    "\n",
    "axs[0].plot(laser_power, NV_counts,'o',color='green',label='NV counts')\n",
    "axs[0].plot(laser_power, NV_background,'o',color='lightgreen',label='Background counts')\n",
    "axs[0].set(xlabel='Laser power (\\u03bcW)', ylabel='Intensity (arb. units)', title='Single NV counts')\n",
    "axs[0].legend()\n",
    "axs[0].grid(True)\n",
    "axs[0].ticklabel_format(axis='y',style='sci',scilimits=(5,5))\n",
    "# axs[0].set(xlim=(-20, 600))\n",
    "\n",
    "axs[1].plot(laser_power, NV_sub,'o',color='green',label='NV counts')\n",
    "axs[1].plot(laser_power, NV_background,'o',color='lightgreen',label='Background counts')\n",
    "axs[1].plot(laser_power, qa.saturation_func(laser_power,*saturation_popt),'g--') #, label='fit: a=%.2e' % tuple(popt)\n",
    "axs[1].set(xlabel='Laser power (\\u03bcW)', ylabel='Intensity (arb. units)',title='Single NV counts without background')\n",
    "axs[1].legend()\n",
    "axs[1].grid(True)\n",
    "axs[1].ticklabel_format(axis='y', style='sci',scilimits=(5,5))\n",
    "axs[1].set(xlim=(-20, 800), ylim = (-0.1,50000))\n",
    "\n",
    "# fig.suptitle(\"Sample 17 (Single NV) saturation curves\")\n",
    "\n",
    "# plt.savefig(\"saturation enc.png\")"
   ]
  },
  {
   "cell_type": "markdown",
   "metadata": {},
   "source": [
    "# Lifetime"
   ]
  },
  {
   "cell_type": "markdown",
   "metadata": {},
   "source": [
    "## Experimental data and estimation"
   ]
  },
  {
   "cell_type": "markdown",
   "metadata": {},
   "source": [
    "### Data import"
   ]
  },
  {
   "cell_type": "code",
   "execution_count": null,
   "metadata": {},
   "outputs": [],
   "source": [
    "os.chdir(r\"D:\\Kseniia\\Optics Lab\\SPV 18+19+ref\\Lifetime\")\n",
    "    \n",
    "filename = \"Sample 19_NV0_1 min_480 nm_rep rate 2,89_current 100_LP550.mp\"\n",
    "lt_time, lt_counts = qa.mp_reader(filename)\n",
    "lt_label1 = 'Excitation wavelength 480 nm'\n",
    "\n",
    "filename2 = \"Sample 19_NV_1 min_rep rate 2,89_current 100_LP650.mp\"\n",
    "lt_time2, lt_counts2 = qa.mp_reader(filename2)\n",
    "lt_label2 = 'Excitation wavelength 520 nm'"
   ]
  },
  {
   "cell_type": "markdown",
   "metadata": {},
   "source": [
    "### Variables for the analysis\n",
    "\n",
    "Values to change:\n",
    "\n",
    "lifetime: expected lifetime for the fitting.\n",
    "\n",
    "decays: number of exponential decays for the fiting."
   ]
  },
  {
   "cell_type": "code",
   "execution_count": null,
   "metadata": {},
   "outputs": [],
   "source": [
    "Sample_name = 'Sample'\n",
    "lifetime = 1e-8\n",
    "decays = 1 # 1 or 2"
   ]
  },
  {
   "cell_type": "markdown",
   "metadata": {},
   "source": [
    "## Data analysis"
   ]
  },
  {
   "cell_type": "markdown",
   "metadata": {},
   "source": [
    "### Lifetime"
   ]
  },
  {
   "cell_type": "code",
   "execution_count": null,
   "metadata": {},
   "outputs": [],
   "source": [
    "if decays == 1:\n",
    "    print(lt_label1)\n",
    "    time1, counts1, lt1, lt_popt1, lt_perr1 = qa.Lifetime_exp(lt_time, lt_counts, lifetime)\n",
    "    print('Lifetime: ', round(lt1,3), \"\\u00B1\", round((lt_perr1[1] * 1e9),3), 'ns')\n",
    "    print('\\n' + lt_label2)\n",
    "    time2, counts2, lt2, lt_popt2, lt_perr2 = qa.Lifetime_exp(lt_time2, lt_counts2, lifetime)\n",
    "    print('Lifetime: ', round(lt2,3), \"\\u00B1\", round((lt_perr2[1] * 1e9),3), 'ns')\n",
    "else:\n",
    "    print(lt_label1)\n",
    "    time1, counts1, lt1, lt_21, lt_popt1, lt_perr1 = qa.Lifetime_double_exp(lt_time, lt_counts, lifetime)\n",
    "    print('Lifetime 1: ', round(lt1,3), \"\\u00B1\", round((lt_perr1[1] * 1e9),3), 'ns')\n",
    "    print('Lifetime 2: ', round(lt_21,3), \"\\u00B1\", round((lt_perr1[3] * 1e9),3), 'ns')\n",
    "    print('\\n' + lt_label2)\n",
    "    time2, counts2, lt2 ,lt_22, lt_popt2, lt_perr2 = qa.Lifetime_double_exp(lt_time2, lt_counts2, lifetime)\n",
    "    print('Lifetime 1: ', round(lt2,3), \"\\u00B1\", round((lt_perr2[1] * 1e9),3), 'ns')\n",
    "    print('Lifetime 2: ', round(lt_22,3), \"\\u00B1\", round((lt_perr2[3] * 1e9),3), 'ns')"
   ]
  },
  {
   "cell_type": "markdown",
   "metadata": {},
   "source": [
    "### Interactive plot"
   ]
  },
  {
   "cell_type": "code",
   "execution_count": null,
   "metadata": {},
   "outputs": [],
   "source": [
    "xdata = lt_time\n",
    "ydata = lt_counts\n",
    "\n",
    "figexp=px.line(x=xdata,y=ydata,title=\"Lifetime\")\n",
    "config = {\n",
    "  'toImageButtonOptions': {\n",
    "    'format': 'svg', # one of png, svg, jpeg, webp\n",
    "    'filename': 'custom_image',\n",
    "    'height': 500,\n",
    "    'width': 700,\n",
    "    'scale': 1 # Multiply title/legend/axis/canvas sizes by this factor\n",
    "  },    'displaylogo': False\n",
    "}\n",
    "figexp.update_xaxes(title_text=\"Time (ps)\")\n",
    "figexp.update_yaxes(title_text=\"Counts (arb. units)\")\n",
    "figexp.show(config=config)"
   ]
  },
  {
   "cell_type": "markdown",
   "metadata": {},
   "source": [
    "### Lifetime plot"
   ]
  },
  {
   "cell_type": "code",
   "execution_count": null,
   "metadata": {},
   "outputs": [],
   "source": [
    "xmin = min(time1 * 1e9)\n",
    "xmax = 10 #max(time1 * 1e9)\n",
    "ymin = min(counts1) - 100 #min(spectrum)\n",
    "ymax = max(counts1) + 100\n",
    "\n",
    "title = 'Sample lifetime'\n",
    "xlabel = 'Time (ns)'\n",
    "ylabel = 'Counts'   "
   ]
  },
  {
   "cell_type": "code",
   "execution_count": null,
   "metadata": {},
   "outputs": [],
   "source": [
    "fig, axs = plt.subplots(figsize=(18,10))\n",
    "if decays == 1:\n",
    "    axs.plot(time1 * 1e9, counts1, 'o', label='Excitation wavelength 480 nm')\n",
    "    axs.plot(time1 * 1e9, qa.T2_func(time1, *lt_popt1), '--', linewidth=1, label='fit:\\namplitude=%.2e\\nlifetime=%.2e\\noffset=%i' % tuple(lt_popt1))\n",
    "    axs.plot(time2 * 1e9, counts2, 'o', label='Excitation wavelength 520 nm')\n",
    "    axs.plot(time2 * 1e9, qa.T2_func(time2, *lt_popt2), '--', linewidth=1, label='fit:\\namplitude=%.2e\\nlifetime=%.2e\\noffset=%i' % tuple(lt_popt2))\n",
    "    axs.grid(color='gray', linestyle='-', linewidth=0.1)\n",
    "    axs.set(xlim=(xmin, xmax),ylim=(ymin, ymax), xlabel=xlabel, ylabel=ylabel, title=title)\n",
    "    axs.legend()\n",
    "#     fig.savefig(filename[:-3] + \"_lifetime.png\")\n",
    "else:\n",
    "    axs.plot(time1 * 1e9, counts1, 'o', label='Excitation wavelength 480 nm')\n",
    "    axs.plot(time1 * 1e9, qa.double_exp(time1, *lt_popt1), '--', linewidth=1, label='fit:\\namplitude=%.2e\\nlifetime=%.2e\\namplitude2=%.2e\\nlifetime2=%.2e\\noffset=%i' % tuple(lt_popt1))\n",
    "    axs.plot(time2 * 1e9, counts2, 'o', label='Excitation wavelength 520 nm')\n",
    "    axs.plot(time2 * 1e9, qa.double_exp(time2, *lt_popt2), '--', linewidth=1, label='fit:\\namplitude=%.2e\\nlifetime=%.2e\\namplitude2=%.2e\\nlifetime2=%.2e\\noffset=%i' % tuple(lt_popt2))\n",
    "    axs.grid(color='gray', linestyle='-', linewidth=0.1)\n",
    "    axs.set(xlim=(xmin, xmax),ylim=(ymin, ymax), xlabel=xlabel, ylabel=ylabel, title=title)\n",
    "    axs.legend()\n",
    "#     fig.savefig(filename[:-3] + \"_lifetime_double exp.png\")"
   ]
  },
  {
   "cell_type": "code",
   "execution_count": null,
   "metadata": {},
   "outputs": [],
   "source": []
  },
  {
   "cell_type": "code",
   "execution_count": null,
   "metadata": {},
   "outputs": [],
   "source": []
  },
  {
   "cell_type": "code",
   "execution_count": null,
   "metadata": {},
   "outputs": [],
   "source": []
  }
 ],
 "metadata": {
  "kernelspec": {
   "display_name": "Python 3",
   "language": "python",
   "name": "python3"
  },
  "language_info": {
   "codemirror_mode": {
    "name": "ipython",
    "version": 3
   },
   "file_extension": ".py",
   "mimetype": "text/x-python",
   "name": "python",
   "nbconvert_exporter": "python",
   "pygments_lexer": "ipython3",
   "version": "3.8.3"
  },
  "toc": {
   "base_numbering": 1,
   "nav_menu": {},
   "number_sections": true,
   "sideBar": true,
   "skip_h1_title": false,
   "title_cell": "Table of Contents",
   "title_sidebar": "Contents",
   "toc_cell": false,
   "toc_position": {
    "height": "calc(100% - 180px)",
    "left": "10px",
    "top": "150px",
    "width": "428.8px"
   },
   "toc_section_display": true,
   "toc_window_display": true
  },
  "varInspector": {
   "cols": {
    "lenName": 16,
    "lenType": 16,
    "lenVar": 40
   },
   "kernels_config": {
    "python": {
     "delete_cmd_postfix": "",
     "delete_cmd_prefix": "del ",
     "library": "var_list.py",
     "varRefreshCmd": "print(var_dic_list())"
    },
    "r": {
     "delete_cmd_postfix": ") ",
     "delete_cmd_prefix": "rm(",
     "library": "var_list.r",
     "varRefreshCmd": "cat(var_dic_list()) "
    }
   },
   "position": {
    "height": "1072.85px",
    "left": "1569px",
    "right": "20px",
    "top": "112px",
    "width": "350px"
   },
   "types_to_exclude": [
    "module",
    "function",
    "builtin_function_or_method",
    "instance",
    "_Feature"
   ],
   "window_display": false
  }
 },
 "nbformat": 4,
 "nbformat_minor": 4
}
